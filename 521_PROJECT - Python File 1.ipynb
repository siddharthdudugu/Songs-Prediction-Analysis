{
 "cells": [
  {
   "cell_type": "markdown",
   "id": "c3e1e753",
   "metadata": {},
   "source": [
    "## Predictive Model\n",
    "This notebook contains the predictive model ran on the dataset. First, we use a bag of words model for our variables to get a count of each word in the lyrics. Then those numbers are ran through a neural network to get a multilabel output that tries to predict the artist.\n",
    "\n",
    "### Project submission group 6\n",
    "- Group member 1\n",
    "    - Name: Michael Visco\n",
    "    - Email: mjv64@drexel.edu\n",
    "- Group member 2\n",
    "    - Name: Abhishek Shetty\n",
    "    - Email: aas373@drexel.edu\n",
    "- Group member 3\n",
    "    - Name: Siddharth Dudugu\n",
    "    - Email: sd3627@drexel.edu\n",
    "- Group member 4\n",
    "    - Name: Harsh Ramesh\n",
    "    - Email: hr439@drexel.edu\n",
    "\n",
    "### Additional submission comments\n",
    "- Tutoring support received: NA\n",
    "- Other (other): NA"
   ]
  },
  {
   "cell_type": "markdown",
   "id": "652ba4b8",
   "metadata": {},
   "source": [
    "`This is the first step, here we have imported the dataset and have dislayed a sample fo the dataset`"
   ]
  },
  {
   "cell_type": "code",
   "execution_count": 37,
   "id": "5c553482",
   "metadata": {
    "colab": {
     "base_uri": "https://localhost:8080/",
     "height": 206
    },
    "id": "5c553482",
    "outputId": "e71c792d-34e2-4995-cdce-71a6de2ea67b"
   },
   "outputs": [
    {
     "data": {
      "text/html": [
       "<div>\n",
       "<style scoped>\n",
       "    .dataframe tbody tr th:only-of-type {\n",
       "        vertical-align: middle;\n",
       "    }\n",
       "\n",
       "    .dataframe tbody tr th {\n",
       "        vertical-align: top;\n",
       "    }\n",
       "\n",
       "    .dataframe thead th {\n",
       "        text-align: right;\n",
       "    }\n",
       "</style>\n",
       "<table border=\"1\" class=\"dataframe\">\n",
       "  <thead>\n",
       "    <tr style=\"text-align: right;\">\n",
       "      <th></th>\n",
       "      <th>Artist</th>\n",
       "      <th>Title</th>\n",
       "      <th>Lyrics</th>\n",
       "    </tr>\n",
       "  </thead>\n",
       "  <tbody>\n",
       "    <tr>\n",
       "      <th>0</th>\n",
       "      <td>Taylor Swift</td>\n",
       "      <td>cardigan</td>\n",
       "      <td>Vintage tee, brand new phone\\nHigh heels on co...</td>\n",
       "    </tr>\n",
       "    <tr>\n",
       "      <th>1</th>\n",
       "      <td>Taylor Swift</td>\n",
       "      <td>exile</td>\n",
       "      <td>I can see you standing, honey\\nWith his arms a...</td>\n",
       "    </tr>\n",
       "    <tr>\n",
       "      <th>2</th>\n",
       "      <td>Taylor Swift</td>\n",
       "      <td>Lover</td>\n",
       "      <td>We could leave the Christmas lights up 'til Ja...</td>\n",
       "    </tr>\n",
       "    <tr>\n",
       "      <th>3</th>\n",
       "      <td>Taylor Swift</td>\n",
       "      <td>the 1</td>\n",
       "      <td>I'm doing good, I'm on some new shit\\nBeen say...</td>\n",
       "    </tr>\n",
       "    <tr>\n",
       "      <th>4</th>\n",
       "      <td>Taylor Swift</td>\n",
       "      <td>Look What You Made Me Do</td>\n",
       "      <td>I don't like your little games\\nDon't like you...</td>\n",
       "    </tr>\n",
       "  </tbody>\n",
       "</table>\n",
       "</div>"
      ],
      "text/plain": [
       "         Artist                     Title  \\\n",
       "0  Taylor Swift                  cardigan   \n",
       "1  Taylor Swift                     exile   \n",
       "2  Taylor Swift                     Lover   \n",
       "3  Taylor Swift                     the 1   \n",
       "4  Taylor Swift  Look What You Made Me Do   \n",
       "\n",
       "                                              Lyrics  \n",
       "0  Vintage tee, brand new phone\\nHigh heels on co...  \n",
       "1  I can see you standing, honey\\nWith his arms a...  \n",
       "2  We could leave the Christmas lights up 'til Ja...  \n",
       "3  I'm doing good, I'm on some new shit\\nBeen say...  \n",
       "4  I don't like your little games\\nDon't like you...  "
      ]
     },
     "execution_count": 37,
     "metadata": {},
     "output_type": "execute_result"
    }
   ],
   "source": [
    "import pandas\n",
    "import numpy as np\n",
    "import matplotlib.pyplot as plt\n",
    "\n",
    "df = pandas.read_csv(\"data/Songs.csv\")\n",
    "df.head()"
   ]
  },
  {
   "cell_type": "markdown",
   "id": "e8f9261c",
   "metadata": {},
   "source": [
    "`We have displayed the name of the columns from the dataset`"
   ]
  },
  {
   "cell_type": "code",
   "execution_count": 38,
   "id": "8a157bd6",
   "metadata": {
    "colab": {
     "base_uri": "https://localhost:8080/"
    },
    "id": "8a157bd6",
    "outputId": "f385bc52-fdc8-45a9-8188-a627b0a45a08"
   },
   "outputs": [
    {
     "name": "stdout",
     "output_type": "stream",
     "text": [
      "Artist\n",
      "Title\n",
      "Lyrics\n"
     ]
    }
   ],
   "source": [
    "for row in df:\n",
    "    print(row)"
   ]
  },
  {
   "cell_type": "markdown",
   "id": "f9c648a4",
   "metadata": {},
   "source": [
    "`In this setp we have tokenized the one single lyrics and have inspected any abnormalities during the tokenization, to rectify it in further process.` "
   ]
  },
  {
   "cell_type": "code",
   "execution_count": 39,
   "id": "822a310c",
   "metadata": {
    "colab": {
     "base_uri": "https://localhost:8080/"
    },
    "id": "822a310c",
    "outputId": "81771fba-4d97-483a-cc23-c7e06cb24698"
   },
   "outputs": [
    {
     "name": "stdout",
     "output_type": "stream",
     "text": [
      "['Vintage', 'tee,', 'brand', 'new', 'phone', 'High', 'heels', 'on', 'cobblestones', 'When', 'you', 'are', 'young,', 'they', 'assume', 'you', 'know\\u2005nothing', 'Sequin\\u2005smile,', 'black', 'lipstick', 'Sensual\\u2005politics', 'When', 'you', 'are', 'young,', 'they', 'assume\\u2005you', 'know', 'nothing', '', 'But', 'I', 'knew', 'you', \"Dancin'\", 'in', 'your', \"Levi's\", 'Drunk', 'under', 'a', 'streetlight,', 'I', 'I', 'knew', 'you', 'Hand', 'under', 'my', 'sweatshirt', 'Baby,', 'kiss', 'it', 'better,', 'I', '', 'And', 'when', 'I', 'felt', 'like', 'I', 'was', 'an', 'old', 'cardigan', 'Under', \"someone's\", 'bed', 'You', 'put', 'me', 'on', 'and', 'said', 'I', 'was', 'your', 'favorite', '', 'A', 'friend', 'to', 'all', 'is', 'a', 'friend', 'to', 'none', 'Chase', 'two', 'girls,', 'lose', 'the', 'one', 'When', 'you', 'are', 'young,', 'they', 'assume', 'you', 'know', 'nothing', 'But', 'I', 'knew', 'you', 'Playing', 'hide-and-seek', 'and', 'Giving', 'me', 'your', 'weekends,', 'I', 'I', 'knew', 'you', 'Your', 'heartbeat', 'on', 'the', 'High', 'Line', 'Once', 'in', 'twenty', 'lifetimes,', 'I', '', 'And', 'when', 'I', 'felt', 'like', 'I', 'was', 'an', 'old', 'cardigan', 'Under', \"someone's\", 'bed', 'You', 'put', 'me', 'on', 'and', 'said', 'I', 'was', 'your', 'favorite', '', 'To', 'kiss', 'in', 'cars', 'and', 'downtown', 'bars', 'Was', 'all', 'we', 'needed', 'You', 'drew', 'stars', 'around', 'my', 'scars', 'But', 'now', \"I'm\", \"bleedin'\", '', \"'Cause\", 'I', 'knew', 'you', \"Steppin'\", 'on', 'the', 'last', 'train', 'Marked', 'me', 'like', 'a', 'bloodstain,', 'I', 'I', 'knew', 'you', 'Tried', 'to', 'change', 'the', 'ending', 'Peter', 'losing', 'Wendy,', 'I', 'I', 'knew', 'you', \"Leavin'\", 'like', 'a', 'father', 'Running', 'like', 'water,', 'I', 'And', 'when', 'you', 'are', 'young,', 'they', 'assume', 'you', 'know', 'nothing', 'But', 'I', 'knew', \"you'd\", 'linger', 'like', 'a', 'tattoo', 'kiss', 'I', 'knew', \"you'd\", 'haunt', 'all', 'of', 'my', 'what-ifs', 'The', 'smell', 'of', 'smoke', 'would', 'hang', 'around', 'this', 'long', \"'Cause\", 'I', 'knew', 'everything', 'when', 'I', 'was', 'young', 'I', 'knew', \"I'd\", 'curse', 'you', 'for', 'the', 'longest', 'time', \"Chasin'\", 'shadows', 'in', 'the', 'grocery', 'line', 'I', 'knew', \"you'd\", 'miss', 'me', 'once', 'the', 'thrill', 'expired', 'And', \"you'd\", 'be', \"standin'\", 'in', 'my', 'front', 'porch', 'light', 'And', 'I', 'knew', \"you'd\", 'come', 'back', 'to', 'me', \"You'd\", 'come', 'back', 'to', 'me', 'And', \"you'd\", 'come', 'back', 'to', 'me', 'And', \"you'd\", 'come', 'back', '', 'And', 'when', 'I', 'felt', 'like', 'I', 'was', 'an', 'old', 'cardigan', 'Under', \"someone's\", 'bed', 'You', 'put', 'me', 'on', 'and', 'said', 'I', 'was', 'your', 'favorite142EmbedShare', 'URLCopyEmbedCopy']\n"
     ]
    }
   ],
   "source": [
    "import spacy\n",
    "nlp = spacy.load(\"en_core_web_sm\")\n",
    "lyrics = df[\"Lyrics\"]\n",
    "sample_list = []\n",
    "song_lyrics = []\n",
    "index = 0\n",
    "#print(lyrics)\n",
    "for index,lyric in enumerate(lyrics):\n",
    "    #print(lyric)\n",
    "    \n",
    "    sample = lyric.split(\"\\n\")\n",
    "    sample_list.append(sample)\n",
    "    index += 1\n",
    "    #print(index)\n",
    "    \n",
    "    \n",
    "#print(sample_list[0])\n",
    "new_list = []\n",
    "\n",
    "for item in sample_list[0]:\n",
    "    sample = item.split(\" \")\n",
    "    new_list.append(sample)\n",
    "#print(new_list)\n",
    "\n",
    "for lists in new_list:\n",
    "    song_lyrics.append(lists)\n",
    "#print(song_lyrics)\n",
    "merged_list = [item for sublist in song_lyrics for item in sublist]\n",
    "print(merged_list)\n"
   ]
  },
  {
   "cell_type": "markdown",
   "id": "9843be3e",
   "metadata": {},
   "source": [
    "`In this step we have tokenized the lyrics and removed unwanted inclusions in the tokenization step, we have then insterted this new tokenized entry into a column called tokenized lyrics`"
   ]
  },
  {
   "cell_type": "code",
   "execution_count": 40,
   "id": "d0f67f71",
   "metadata": {
    "colab": {
     "base_uri": "https://localhost:8080/"
    },
    "id": "d0f67f71",
    "outputId": "3a5a402f-b5f0-4151-ce96-bca18d7dc660"
   },
   "outputs": [
    {
     "name": "stdout",
     "output_type": "stream",
     "text": [
      "         Artist                     Title  \\\n",
      "0  Taylor Swift                  cardigan   \n",
      "1  Taylor Swift                     exile   \n",
      "2  Taylor Swift                     Lover   \n",
      "3  Taylor Swift                     the 1   \n",
      "4  Taylor Swift  Look What You Made Me Do   \n",
      "\n",
      "                                              Lyrics  \\\n",
      "0  Vintage tee, brand new phone\\nHigh heels on co...   \n",
      "1  I can see you standing, honey\\nWith his arms a...   \n",
      "2  We could leave the Christmas lights up 'til Ja...   \n",
      "3  I'm doing good, I'm on some new shit\\nBeen say...   \n",
      "4  I don't like your little games\\nDon't like you...   \n",
      "\n",
      "                                    Tokenized_lyrics  \n",
      "0  Vintage tee, brand new phone High heels on cob...  \n",
      "1  I can see you standing, honey With his arms ar...  \n",
      "2  We could leave the Christmas lights up 'til Ja...  \n",
      "3  I'm doing good, I'm on some new shit Been sayi...  \n",
      "4  I don't like your little games Don't like your...  \n"
     ]
    }
   ],
   "source": [
    "df['Tokenized_lyrics'] = df['Lyrics'].replace('/n', ' ', regex=True).apply(lambda x: ' '.join(x.split()))\n",
    "\n",
    "# Print the updated DataFrame\n",
    "print(df.head())\n"
   ]
  },
  {
   "cell_type": "markdown",
   "id": "801e06c8",
   "metadata": {},
   "source": [
    "`In this tep the team has created three new columns namely for Lyrics length, standardized lyrics length and average lyrics length respectively. In this step we have added the lyrics length of each of the songs, standardized the lyrics length and finally calculated the average lyrics length for an artist considering all his/her songs in the datset. `"
   ]
  },
  {
   "cell_type": "code",
   "execution_count": 41,
   "id": "ffd8bb41",
   "metadata": {
    "colab": {
     "base_uri": "https://localhost:8080/"
    },
    "id": "ffd8bb41",
    "outputId": "9422feef-9f5c-4159-dff8-711a90913a8a"
   },
   "outputs": [
    {
     "name": "stdout",
     "output_type": "stream",
     "text": [
      "         Artist                     Title  \\\n",
      "0  Taylor Swift                  cardigan   \n",
      "1  Taylor Swift                     exile   \n",
      "2  Taylor Swift                     Lover   \n",
      "3  Taylor Swift                     the 1   \n",
      "4  Taylor Swift  Look What You Made Me Do   \n",
      "\n",
      "                                              Lyrics  \\\n",
      "0  Vintage tee, brand new phone\\nHigh heels on co...   \n",
      "1  I can see you standing, honey\\nWith his arms a...   \n",
      "2  We could leave the Christmas lights up 'til Ja...   \n",
      "3  I'm doing good, I'm on some new shit\\nBeen say...   \n",
      "4  I don't like your little games\\nDon't like you...   \n",
      "\n",
      "                                    Tokenized_lyrics  lyrics_length  \\\n",
      "0  Vintage tee, brand new phone High heels cobble...            281   \n",
      "1  can see you standing, honey With his arms arou...            416   \n",
      "2  We could leave Christmas lights up 'til Januar...            233   \n",
      "3  I'm doing good, I'm some new shit Been saying ...            277   \n",
      "4  don't like your little games Don't like your t...            509   \n",
      "\n",
      "   standardized_length  average_lyrics_length  \n",
      "0                 0.30                 347.08  \n",
      "1                 1.48                 347.08  \n",
      "2                -0.11                 347.08  \n",
      "3                 0.27                 347.08  \n",
      "4                 2.29                 347.08  \n"
     ]
    }
   ],
   "source": [
    "drop_words = ['a', 'I', 'an', 'the', 'and', 'on']\n",
    "df['Tokenized_lyrics'] = df['Lyrics'].replace('/n', ' ', regex=True).apply(lambda x: ' '.join([word for word in x.split() if word not in drop_words]))\n",
    "\n",
    "# Print the updated DataFrame\n",
    "#print(df.head())\n",
    "\n",
    "# Count the number of words in each row of Tokenized_lyrics\n",
    "df['lyrics_length'] = df['Tokenized_lyrics'].apply(lambda x: len(x.split()))\n",
    "\n",
    "df['standardized_length'] = round((df['lyrics_length'] - np.mean(df['lyrics_length'])) / np.std(df['lyrics_length']), 2)\n",
    "\n",
    "# Compute average lyrics length for each artist\n",
    "avg_lyrics_length = df.groupby('Artist')['lyrics_length'].mean()\n",
    "\n",
    "# Add average lyrics length to a new column in the DataFrame\n",
    "df['average_lyrics_length'] = df['Artist'].map(avg_lyrics_length)\n",
    "\n",
    "print(df.head())"
   ]
  },
  {
   "cell_type": "markdown",
   "id": "5ea37e19",
   "metadata": {},
   "source": [
    "`Here we have displayed the top 10 artists with highest average lyrics length and the bottom 10 artists as well. ` "
   ]
  },
  {
   "cell_type": "code",
   "execution_count": 42,
   "id": "a5248ddc",
   "metadata": {
    "colab": {
     "base_uri": "https://localhost:8080/"
    },
    "id": "a5248ddc",
    "outputId": "07dd5f1f-c10a-43b9-d3dc-10d579cced90"
   },
   "outputs": [
    {
     "name": "stdout",
     "output_type": "stream",
     "text": [
      "Top 10 artists by average lyrics length:\n",
      "Artist\n",
      "Bob Dylan             404.850000\n",
      "Ed Sheeran            358.000000\n",
      "​twenty one pilots    354.866667\n",
      "Taylor Swift          347.080000\n",
      "Lana Del Rey          330.233333\n",
      "George Michael        302.466667\n",
      "Billy Joel            262.100000\n",
      "Bruce Springsteen     260.600000\n",
      "Leonard Cohen         260.560000\n",
      "Queen                 246.366667\n",
      "Name: lyrics_length, dtype: float64\n",
      "/nLowest 10 artists by average lyrics length:\n",
      "Artist\n",
      "Nat King Cole     127.766667\n",
      "Eric Clapton      142.480000\n",
      "Frank Sinatra     158.966667\n",
      "Ray LaMontagne    185.066667\n",
      "The Beatles       195.171429\n",
      "Billie Eilish     204.440000\n",
      "John Denver       209.800000\n",
      "Bryan Adams       216.833333\n",
      "David Bowie       230.880000\n",
      "Vance Joy         239.333333\n",
      "Name: lyrics_length, dtype: float64\n"
     ]
    }
   ],
   "source": [
    "avg_lyrics_length = df.groupby('Artist')['lyrics_length'].mean()\n",
    "\n",
    "# Print the top 10 and lowest 10 artists by average lyrics length\n",
    "print('Top 10 artists by average lyrics length:')\n",
    "print(avg_lyrics_length.sort_values(ascending=False).head(10))\n",
    "print('/nLowest 10 artists by average lyrics length:')\n",
    "print(avg_lyrics_length.sort_values().head(10))"
   ]
  },
  {
   "cell_type": "markdown",
   "id": "9f3d9b7c",
   "metadata": {},
   "source": [
    "`This is a plot of the average lyrics length ofr artists`"
   ]
  },
  {
   "cell_type": "code",
   "execution_count": 43,
   "id": "84c65fda",
   "metadata": {
    "colab": {
     "base_uri": "https://localhost:8080/",
     "height": 394
    },
    "id": "84c65fda",
    "outputId": "6f7a336d-5995-4afb-b59b-b18e754b2e81"
   },
   "outputs": [
    {
     "data": {
      "text/plain": [
       "<Figure size 1800x1800 with 0 Axes>"
      ]
     },
     "metadata": {},
     "output_type": "display_data"
    },
    {
     "data": {
      "image/png": "[encoded data removed]",
      "text/plain": [
       "<Figure size 432x288 with 1 Axes>"
      ]
     },
     "metadata": {
      "needs_background": "light"
     },
     "output_type": "display_data"
    }
   ],
   "source": [
    "import pandas as pd\n",
    "import matplotlib.pyplot as plt\n",
    "\n",
    "\n",
    "# Create a bar chart of average lyrics length for each artist\n",
    "plt.figure(figsize=(25, 25))\n",
    "df.plot(kind='bar', x='Artist', y='average_lyrics_length', legend=None)\n",
    "plt.xlabel('Artist')\n",
    "plt.ylabel('Average Lyrics Length')\n",
    "plt.title('Average Lyrics Length for Each Artist')\n",
    "plt.show()"
   ]
  },
  {
   "cell_type": "markdown",
   "id": "Aefxa1i5uo_N",
   "metadata": {
    "id": "Aefxa1i5uo_N"
   },
   "source": [
    "### Part 2"
   ]
  },
  {
   "cell_type": "markdown",
   "id": "268af2e8",
   "metadata": {},
   "source": [
    "\n",
    "\n",
    "\n",
    "\n",
    "In below step we used the nltk library WordNetLemmatizer to Lemmatize the tokenized words. The lyrics first have been tokenised and then lemmatised. Also, we used the required nltk extensions such as wordnet,averaged perceptron tagger for the Lemmatizing the lyrics and doing Parts of Speech Tagging. We removed all the english stopwords and punctuations as well. "
   ]
  },
  {
   "cell_type": "code",
   "execution_count": 44,
   "id": "cnEvYNGEEI6s",
   "metadata": {
    "colab": {
     "base_uri": "https://localhost:8080/"
    },
    "id": "cnEvYNGEEI6s",
    "outputId": "babb2fbd-218a-4d6e-f959-f7d6d1285e7b",
    "scrolled": true
   },
   "outputs": [
    {
     "name": "stderr",
     "output_type": "stream",
     "text": [
      "[nltk_data] Downloading package wordnet to\n",
      "[nltk_data]     C:\\Users\\91902\\AppData\\Roaming\\nltk_data...\n",
      "[nltk_data]   Package wordnet is already up-to-date!\n",
      "[nltk_data] Downloading package averaged_perceptron_tagger to\n",
      "[nltk_data]     C:\\Users\\91902\\AppData\\Roaming\\nltk_data...\n",
      "[nltk_data]   Package averaged_perceptron_tagger is already up-to-\n",
      "[nltk_data]       date!\n",
      "[nltk_data] Downloading package omw-1.4 to\n",
      "[nltk_data]     C:\\Users\\91902\\AppData\\Roaming\\nltk_data...\n",
      "[nltk_data]   Package omw-1.4 is already up-to-date!\n",
      "[nltk_data] Downloading package stopwords to\n",
      "[nltk_data]     C:\\Users\\91902\\AppData\\Roaming\\nltk_data...\n",
      "[nltk_data]   Package stopwords is already up-to-date!\n",
      "[nltk_data] Downloading package punkt to\n",
      "[nltk_data]     C:\\Users\\91902\\AppData\\Roaming\\nltk_data...\n",
      "[nltk_data]   Package punkt is already up-to-date!\n"
     ]
    }
   ],
   "source": [
    "import nltk\n",
    "from nltk.stem import WordNetLemmatizer \n",
    "import string\n",
    "lemmatizer = WordNetLemmatizer()\n",
    "nltk.download('wordnet') \n",
    "nltk.download('averaged_perceptron_tagger')\n",
    "nltk.download('omw-1.4')\n",
    "nltk.download('stopwords')\n",
    "import string\n",
    "lemmatizer = WordNetLemmatizer()\n",
    "from nltk import pos_tag\n",
    "nltk.download('punkt')\n",
    "stopwords = nltk.corpus.stopwords.words(\"english\")\n",
    "stopwords.extend(string.punctuation)\n",
    "\n"
   ]
  },
  {
   "cell_type": "markdown",
   "id": "4389a91e",
   "metadata": {},
   "source": [
    "Tokenization is used in natural language processing to split paragraphs and sentences into smaller units that can be more easily assigned meaning.\n",
    "This function returns the tokenised lyrics in a list that is stored in a column called Tokenised_words. "
   ]
  },
  {
   "cell_type": "code",
   "execution_count": 45,
   "id": "faVGLchLmEV7",
   "metadata": {
    "colab": {
     "base_uri": "https://localhost:8080/"
    },
    "id": "faVGLchLmEV7",
    "outputId": "1ea5a3fd-42c1-4ddf-ee3f-0938dfc23060"
   },
   "outputs": [
    {
     "name": "stdout",
     "output_type": "stream",
     "text": [
      "0      [Vintage, tee, brand, new, phone, High, heels,...\n",
      "1      [see, standing, honey, With, arms, around, bod...\n",
      "2      [We, could, leave, Christmas, lights, January,...\n",
      "3      [I, good, I, new, shit, Been, saying, yes, ins...\n",
      "4      [like, little, games, Do, like, tilted, stage,...\n",
      "                             ...                        \n",
      "740    [The, first, time, ever, saw, face, thought, s...\n",
      "741    [Now, every, day, see, face, They, crack, smil...\n",
      "742    [GTI, Hot, Shot, He, parks, piss, Bullyboy, go...\n",
      "743    [Maybe, mama, gave, boy, Maybe, daddy, love, e...\n",
      "744    [Tonight, Do, fight, Tonight, want, go, sleep,...\n",
      "Name: Tokenised_words, Length: 745, dtype: object\n"
     ]
    }
   ],
   "source": [
    "#Tokenization\n",
    "def get_word_tokens(sentence):\n",
    "    tokenized_sentence = nltk.word_tokenize(sentence)\n",
    "    words = [token for token in tokenized_sentence if token.isalpha() and token not in stopwords]\n",
    "    return words\n",
    "\n",
    "df['Tokenised_words'] = df['Tokenized_lyrics'].apply(get_word_tokens)\n",
    "print(df['Tokenised_words'])"
   ]
  },
  {
   "cell_type": "markdown",
   "id": "82a53652",
   "metadata": {},
   "source": [
    "Lemmatization is a text pre-processing technique used in natural language processing (NLP) models to break a word down to its root meaning to identify similarities.It switches any kind of a word to its base root mode."
   ]
  },
  {
   "cell_type": "code",
   "execution_count": 46,
   "id": "POZI7OlRxhHK",
   "metadata": {
    "colab": {
     "base_uri": "https://localhost:8080/"
    },
    "id": "POZI7OlRxhHK",
    "outputId": "45649507-cf61-4165-b62a-ff93084f8390"
   },
   "outputs": [
    {
     "name": "stdout",
     "output_type": "stream",
     "text": [
      "0      Vintage tee, brand new phone High heel cobbles...\n",
      "1      see standing, honey With arm around body Laugh...\n",
      "2      We could leave Christmas light 'til January An...\n",
      "3      I'm good, I'm new shit Been saying \"yes\" inste...\n",
      "4      like little game Don't like tilted stage The r...\n",
      "                             ...                        \n",
      "740    The first time ever saw face thought sun rose ...\n",
      "741    Now every day see face They crack smile, talk ...\n",
      "742    GTI, Hot Shot He park there, piss Bullyboy, go...\n",
      "743    Maybe mama gave up, boy Maybe daddy love enoug...\n",
      "744    Tonight Do fight Tonight? want go sleep Turn l...\n",
      "Name: Lemmatized_lyrics, Length: 745, dtype: object\n"
     ]
    }
   ],
   "source": [
    "# Lemmatization\n",
    "df['Lemmatized_lyrics'] = df['Tokenized_lyrics'].apply(lambda x: ' '.join([lemmatizer.lemmatize(word) for i in x.split() for word in i.split(' ') if word not in stopwords]))\n",
    "print(df['Lemmatized_lyrics'])"
   ]
  },
  {
   "cell_type": "markdown",
   "id": "f8b2ccb6",
   "metadata": {},
   "source": [
    "Part-of-speech (POS) tagging, also called grammatical tagging, is the automatic assignment of part-of-speech tags to words in a sentence.POS is a grammatical classification that commonly includes verbs, adjectives, adverbs, nouns, etc."
   ]
  },
  {
   "cell_type": "code",
   "execution_count": 47,
   "id": "994d3a20",
   "metadata": {
    "id": "0QzfNDvD9z8T"
   },
   "outputs": [],
   "source": [
    "#POS Tagging\n",
    "\n",
    "def get_pos_tags(sentence):\n",
    "    tokenized_words = get_word_tokens(sentence)\n",
    "    pos_tags = nltk.pos_tag(tokenized_words)\n",
    "    return pos_tags\n",
    "\n",
    "df['tagged'] = df['Tokenized_lyrics'].apply(get_pos_tags)"
   ]
  },
  {
   "cell_type": "code",
   "execution_count": 48,
   "id": "8806291e",
   "metadata": {
    "colab": {
     "base_uri": "https://localhost:8080/",
     "height": 424
    },
    "id": "8806291e",
    "outputId": "1e8c82f4-8ed9-40a9-9bc3-c381e7cf9826"
   },
   "outputs": [
    {
     "data": {
      "text/html": [
       "<div>\n",
       "<style scoped>\n",
       "    .dataframe tbody tr th:only-of-type {\n",
       "        vertical-align: middle;\n",
       "    }\n",
       "\n",
       "    .dataframe tbody tr th {\n",
       "        vertical-align: top;\n",
       "    }\n",
       "\n",
       "    .dataframe thead th {\n",
       "        text-align: right;\n",
       "    }\n",
       "</style>\n",
       "<table border=\"1\" class=\"dataframe\">\n",
       "  <thead>\n",
       "    <tr style=\"text-align: right;\">\n",
       "      <th></th>\n",
       "      <th>Artist</th>\n",
       "      <th>Title</th>\n",
       "      <th>Lyrics</th>\n",
       "      <th>Tokenized_lyrics</th>\n",
       "      <th>lyrics_length</th>\n",
       "      <th>standardized_length</th>\n",
       "      <th>average_lyrics_length</th>\n",
       "      <th>Tokenised_words</th>\n",
       "      <th>Lemmatized_lyrics</th>\n",
       "      <th>tagged</th>\n",
       "    </tr>\n",
       "  </thead>\n",
       "  <tbody>\n",
       "    <tr>\n",
       "      <th>0</th>\n",
       "      <td>Taylor Swift</td>\n",
       "      <td>cardigan</td>\n",
       "      <td>Vintage tee, brand new phone\\nHigh heels on co...</td>\n",
       "      <td>Vintage tee, brand new phone High heels cobble...</td>\n",
       "      <td>281</td>\n",
       "      <td>0.30</td>\n",
       "      <td>347.08</td>\n",
       "      <td>[Vintage, tee, brand, new, phone, High, heels,...</td>\n",
       "      <td>Vintage tee, brand new phone High heel cobbles...</td>\n",
       "      <td>[(Vintage, NNP), (tee, NN), (brand, NN), (new,...</td>\n",
       "    </tr>\n",
       "    <tr>\n",
       "      <th>1</th>\n",
       "      <td>Taylor Swift</td>\n",
       "      <td>exile</td>\n",
       "      <td>I can see you standing, honey\\nWith his arms a...</td>\n",
       "      <td>can see you standing, honey With his arms arou...</td>\n",
       "      <td>416</td>\n",
       "      <td>1.48</td>\n",
       "      <td>347.08</td>\n",
       "      <td>[see, standing, honey, With, arms, around, bod...</td>\n",
       "      <td>see standing, honey With arm around body Laugh...</td>\n",
       "      <td>[(see, VB), (standing, VBG), (honey, NN), (Wit...</td>\n",
       "    </tr>\n",
       "    <tr>\n",
       "      <th>2</th>\n",
       "      <td>Taylor Swift</td>\n",
       "      <td>Lover</td>\n",
       "      <td>We could leave the Christmas lights up 'til Ja...</td>\n",
       "      <td>We could leave Christmas lights up 'til Januar...</td>\n",
       "      <td>233</td>\n",
       "      <td>-0.11</td>\n",
       "      <td>347.08</td>\n",
       "      <td>[We, could, leave, Christmas, lights, January,...</td>\n",
       "      <td>We could leave Christmas light 'til January An...</td>\n",
       "      <td>[(We, PRP), (could, MD), (leave, VB), (Christm...</td>\n",
       "    </tr>\n",
       "    <tr>\n",
       "      <th>3</th>\n",
       "      <td>Taylor Swift</td>\n",
       "      <td>the 1</td>\n",
       "      <td>I'm doing good, I'm on some new shit\\nBeen say...</td>\n",
       "      <td>I'm doing good, I'm some new shit Been saying ...</td>\n",
       "      <td>277</td>\n",
       "      <td>0.27</td>\n",
       "      <td>347.08</td>\n",
       "      <td>[I, good, I, new, shit, Been, saying, yes, ins...</td>\n",
       "      <td>I'm good, I'm new shit Been saying \"yes\" inste...</td>\n",
       "      <td>[(I, PRP), (good, VBP), (I, PRP), (new, JJ), (...</td>\n",
       "    </tr>\n",
       "    <tr>\n",
       "      <th>4</th>\n",
       "      <td>Taylor Swift</td>\n",
       "      <td>Look What You Made Me Do</td>\n",
       "      <td>I don't like your little games\\nDon't like you...</td>\n",
       "      <td>don't like your little games Don't like your t...</td>\n",
       "      <td>509</td>\n",
       "      <td>2.29</td>\n",
       "      <td>347.08</td>\n",
       "      <td>[like, little, games, Do, like, tilted, stage,...</td>\n",
       "      <td>like little game Don't like tilted stage The r...</td>\n",
       "      <td>[(like, IN), (little, JJ), (games, NNS), (Do, ...</td>\n",
       "    </tr>\n",
       "  </tbody>\n",
       "</table>\n",
       "</div>"
      ],
      "text/plain": [
       "         Artist                     Title  \\\n",
       "0  Taylor Swift                  cardigan   \n",
       "1  Taylor Swift                     exile   \n",
       "2  Taylor Swift                     Lover   \n",
       "3  Taylor Swift                     the 1   \n",
       "4  Taylor Swift  Look What You Made Me Do   \n",
       "\n",
       "                                              Lyrics  \\\n",
       "0  Vintage tee, brand new phone\\nHigh heels on co...   \n",
       "1  I can see you standing, honey\\nWith his arms a...   \n",
       "2  We could leave the Christmas lights up 'til Ja...   \n",
       "3  I'm doing good, I'm on some new shit\\nBeen say...   \n",
       "4  I don't like your little games\\nDon't like you...   \n",
       "\n",
       "                                    Tokenized_lyrics  lyrics_length  \\\n",
       "0  Vintage tee, brand new phone High heels cobble...            281   \n",
       "1  can see you standing, honey With his arms arou...            416   \n",
       "2  We could leave Christmas lights up 'til Januar...            233   \n",
       "3  I'm doing good, I'm some new shit Been saying ...            277   \n",
       "4  don't like your little games Don't like your t...            509   \n",
       "\n",
       "   standardized_length  average_lyrics_length  \\\n",
       "0                 0.30                 347.08   \n",
       "1                 1.48                 347.08   \n",
       "2                -0.11                 347.08   \n",
       "3                 0.27                 347.08   \n",
       "4                 2.29                 347.08   \n",
       "\n",
       "                                     Tokenised_words  \\\n",
       "0  [Vintage, tee, brand, new, phone, High, heels,...   \n",
       "1  [see, standing, honey, With, arms, around, bod...   \n",
       "2  [We, could, leave, Christmas, lights, January,...   \n",
       "3  [I, good, I, new, shit, Been, saying, yes, ins...   \n",
       "4  [like, little, games, Do, like, tilted, stage,...   \n",
       "\n",
       "                                   Lemmatized_lyrics  \\\n",
       "0  Vintage tee, brand new phone High heel cobbles...   \n",
       "1  see standing, honey With arm around body Laugh...   \n",
       "2  We could leave Christmas light 'til January An...   \n",
       "3  I'm good, I'm new shit Been saying \"yes\" inste...   \n",
       "4  like little game Don't like tilted stage The r...   \n",
       "\n",
       "                                              tagged  \n",
       "0  [(Vintage, NNP), (tee, NN), (brand, NN), (new,...  \n",
       "1  [(see, VB), (standing, VBG), (honey, NN), (Wit...  \n",
       "2  [(We, PRP), (could, MD), (leave, VB), (Christm...  \n",
       "3  [(I, PRP), (good, VBP), (I, PRP), (new, JJ), (...  \n",
       "4  [(like, IN), (little, JJ), (games, NNS), (Do, ...  "
      ]
     },
     "execution_count": 48,
     "metadata": {},
     "output_type": "execute_result"
    }
   ],
   "source": [
    "df.head()\n",
    "#df.shape"
   ]
  },
  {
   "cell_type": "markdown",
   "id": "39e5a12c",
   "metadata": {},
   "source": [
    "Word Frquency: It is the ability to count the frequency of the terms used in a text document or table. In our case we have counted the frequency of the words using Counter and tokenised words of the lyrics on the basis of the song of each artist."
   ]
  },
  {
   "cell_type": "code",
   "execution_count": 49,
   "id": "CmDNlgq5FsDV",
   "metadata": {
    "id": "CmDNlgq5FsDV"
   },
   "outputs": [],
   "source": [
    "#Get frequency of words as dictionary\n",
    "from collections import Counter\n",
    "def word_frequency(text):\n",
    "  tokens = nltk.word_tokenize(text.lower())\n",
    "  stopwords = nltk.corpus.stopwords.words('english')\n",
    "  stopwords.extend(string.punctuation)\n",
    "  words = [token for token in tokens if token.isalpha() and token not in stopwords]\n",
    "  if words:\n",
    "    word_counts = Counter(words)\n",
    "    return dict(word_counts)\n",
    "  else:\n",
    "    return {}\n",
    "\n",
    "df['word_frequency'] = df['Tokenized_lyrics'].apply(word_frequency)\n",
    "\n",
    "from collections import defaultdict\n",
    "\n",
    "merged_dict = defaultdict(int)\n",
    "for d in df['word_frequency']:\n",
    "    for k, v in d.items():\n",
    "        merged_dict[k] += v\n",
    "\n",
    "word_frequency_df = pd.DataFrame.from_dict(merged_dict, orient='index', columns=['Frequency'])\n",
    "word_frequency_df.index.name = 'Word'\n",
    "word_frequency_df.sort_values(by='Frequency', ascending=False, inplace=True)\n"
   ]
  },
  {
   "cell_type": "code",
   "execution_count": 50,
   "id": "ZnyE_TkLNAIr",
   "metadata": {
    "colab": {
     "base_uri": "https://localhost:8080/",
     "height": 476
    },
    "id": "ZnyE_TkLNAIr",
    "outputId": "53c6d1c5-1e05-4474-9a38-f744165fdc20"
   },
   "outputs": [
    {
     "data": {
      "text/html": [
       "<div>\n",
       "<style scoped>\n",
       "    .dataframe tbody tr th:only-of-type {\n",
       "        vertical-align: middle;\n",
       "    }\n",
       "\n",
       "    .dataframe tbody tr th {\n",
       "        vertical-align: top;\n",
       "    }\n",
       "\n",
       "    .dataframe thead th {\n",
       "        text-align: right;\n",
       "    }\n",
       "</style>\n",
       "<table border=\"1\" class=\"dataframe\">\n",
       "  <thead>\n",
       "    <tr style=\"text-align: right;\">\n",
       "      <th></th>\n",
       "      <th>Artist</th>\n",
       "      <th>Title</th>\n",
       "      <th>Lyrics</th>\n",
       "      <th>Tokenized_lyrics</th>\n",
       "      <th>lyrics_length</th>\n",
       "      <th>standardized_length</th>\n",
       "      <th>average_lyrics_length</th>\n",
       "      <th>Tokenised_words</th>\n",
       "      <th>Lemmatized_lyrics</th>\n",
       "      <th>tagged</th>\n",
       "      <th>word_frequency</th>\n",
       "    </tr>\n",
       "  </thead>\n",
       "  <tbody>\n",
       "    <tr>\n",
       "      <th>0</th>\n",
       "      <td>Taylor Swift</td>\n",
       "      <td>cardigan</td>\n",
       "      <td>Vintage tee, brand new phone\\nHigh heels on co...</td>\n",
       "      <td>Vintage tee, brand new phone High heels cobble...</td>\n",
       "      <td>281</td>\n",
       "      <td>0.30</td>\n",
       "      <td>347.08</td>\n",
       "      <td>[Vintage, tee, brand, new, phone, High, heels,...</td>\n",
       "      <td>Vintage tee, brand new phone High heel cobbles...</td>\n",
       "      <td>[(Vintage, NNP), (tee, NN), (brand, NN), (new,...</td>\n",
       "      <td>{'vintage': 1, 'tee': 1, 'brand': 1, 'new': 1,...</td>\n",
       "    </tr>\n",
       "    <tr>\n",
       "      <th>1</th>\n",
       "      <td>Taylor Swift</td>\n",
       "      <td>exile</td>\n",
       "      <td>I can see you standing, honey\\nWith his arms a...</td>\n",
       "      <td>can see you standing, honey With his arms arou...</td>\n",
       "      <td>416</td>\n",
       "      <td>1.48</td>\n",
       "      <td>347.08</td>\n",
       "      <td>[see, standing, honey, With, arms, around, bod...</td>\n",
       "      <td>see standing, honey With arm around body Laugh...</td>\n",
       "      <td>[(see, VB), (standing, VBG), (honey, NN), (Wit...</td>\n",
       "      <td>{'see': 3, 'standing': 1, 'honey': 2, 'arms': ...</td>\n",
       "    </tr>\n",
       "    <tr>\n",
       "      <th>2</th>\n",
       "      <td>Taylor Swift</td>\n",
       "      <td>Lover</td>\n",
       "      <td>We could leave the Christmas lights up 'til Ja...</td>\n",
       "      <td>We could leave Christmas lights up 'til Januar...</td>\n",
       "      <td>233</td>\n",
       "      <td>-0.11</td>\n",
       "      <td>347.08</td>\n",
       "      <td>[We, could, leave, Christmas, lights, January,...</td>\n",
       "      <td>We could leave Christmas light 'til January An...</td>\n",
       "      <td>[(We, PRP), (could, MD), (leave, VB), (Christm...</td>\n",
       "      <td>{'could': 2, 'leave': 1, 'christmas': 1, 'ligh...</td>\n",
       "    </tr>\n",
       "    <tr>\n",
       "      <th>3</th>\n",
       "      <td>Taylor Swift</td>\n",
       "      <td>the 1</td>\n",
       "      <td>I'm doing good, I'm on some new shit\\nBeen say...</td>\n",
       "      <td>I'm doing good, I'm some new shit Been saying ...</td>\n",
       "      <td>277</td>\n",
       "      <td>0.27</td>\n",
       "      <td>347.08</td>\n",
       "      <td>[I, good, I, new, shit, Been, saying, yes, ins...</td>\n",
       "      <td>I'm good, I'm new shit Been saying \"yes\" inste...</td>\n",
       "      <td>[(I, PRP), (good, VBP), (I, PRP), (new, JJ), (...</td>\n",
       "      <td>{'good': 1, 'new': 1, 'shit': 2, 'saying': 1, ...</td>\n",
       "    </tr>\n",
       "    <tr>\n",
       "      <th>4</th>\n",
       "      <td>Taylor Swift</td>\n",
       "      <td>Look What You Made Me Do</td>\n",
       "      <td>I don't like your little games\\nDon't like you...</td>\n",
       "      <td>don't like your little games Don't like your t...</td>\n",
       "      <td>509</td>\n",
       "      <td>2.29</td>\n",
       "      <td>347.08</td>\n",
       "      <td>[like, little, games, Do, like, tilted, stage,...</td>\n",
       "      <td>like little game Don't like tilted stage The r...</td>\n",
       "      <td>[(like, IN), (little, JJ), (games, NNS), (Do, ...</td>\n",
       "      <td>{'like': 6, 'little': 1, 'games': 1, 'tilted':...</td>\n",
       "    </tr>\n",
       "  </tbody>\n",
       "</table>\n",
       "</div>"
      ],
      "text/plain": [
       "         Artist                     Title  \\\n",
       "0  Taylor Swift                  cardigan   \n",
       "1  Taylor Swift                     exile   \n",
       "2  Taylor Swift                     Lover   \n",
       "3  Taylor Swift                     the 1   \n",
       "4  Taylor Swift  Look What You Made Me Do   \n",
       "\n",
       "                                              Lyrics  \\\n",
       "0  Vintage tee, brand new phone\\nHigh heels on co...   \n",
       "1  I can see you standing, honey\\nWith his arms a...   \n",
       "2  We could leave the Christmas lights up 'til Ja...   \n",
       "3  I'm doing good, I'm on some new shit\\nBeen say...   \n",
       "4  I don't like your little games\\nDon't like you...   \n",
       "\n",
       "                                    Tokenized_lyrics  lyrics_length  \\\n",
       "0  Vintage tee, brand new phone High heels cobble...            281   \n",
       "1  can see you standing, honey With his arms arou...            416   \n",
       "2  We could leave Christmas lights up 'til Januar...            233   \n",
       "3  I'm doing good, I'm some new shit Been saying ...            277   \n",
       "4  don't like your little games Don't like your t...            509   \n",
       "\n",
       "   standardized_length  average_lyrics_length  \\\n",
       "0                 0.30                 347.08   \n",
       "1                 1.48                 347.08   \n",
       "2                -0.11                 347.08   \n",
       "3                 0.27                 347.08   \n",
       "4                 2.29                 347.08   \n",
       "\n",
       "                                     Tokenised_words  \\\n",
       "0  [Vintage, tee, brand, new, phone, High, heels,...   \n",
       "1  [see, standing, honey, With, arms, around, bod...   \n",
       "2  [We, could, leave, Christmas, lights, January,...   \n",
       "3  [I, good, I, new, shit, Been, saying, yes, ins...   \n",
       "4  [like, little, games, Do, like, tilted, stage,...   \n",
       "\n",
       "                                   Lemmatized_lyrics  \\\n",
       "0  Vintage tee, brand new phone High heel cobbles...   \n",
       "1  see standing, honey With arm around body Laugh...   \n",
       "2  We could leave Christmas light 'til January An...   \n",
       "3  I'm good, I'm new shit Been saying \"yes\" inste...   \n",
       "4  like little game Don't like tilted stage The r...   \n",
       "\n",
       "                                              tagged  \\\n",
       "0  [(Vintage, NNP), (tee, NN), (brand, NN), (new,...   \n",
       "1  [(see, VB), (standing, VBG), (honey, NN), (Wit...   \n",
       "2  [(We, PRP), (could, MD), (leave, VB), (Christm...   \n",
       "3  [(I, PRP), (good, VBP), (I, PRP), (new, JJ), (...   \n",
       "4  [(like, IN), (little, JJ), (games, NNS), (Do, ...   \n",
       "\n",
       "                                      word_frequency  \n",
       "0  {'vintage': 1, 'tee': 1, 'brand': 1, 'new': 1,...  \n",
       "1  {'see': 3, 'standing': 1, 'honey': 2, 'arms': ...  \n",
       "2  {'could': 2, 'leave': 1, 'christmas': 1, 'ligh...  \n",
       "3  {'good': 1, 'new': 1, 'shit': 2, 'saying': 1, ...  \n",
       "4  {'like': 6, 'little': 1, 'games': 1, 'tilted':...  "
      ]
     },
     "execution_count": 50,
     "metadata": {},
     "output_type": "execute_result"
    }
   ],
   "source": [
    "df.head()"
   ]
  },
  {
   "cell_type": "markdown",
   "id": "ebd3e535",
   "metadata": {},
   "source": [
    "We used the word frquency to find the most common words used in the song by eah artist "
   ]
  },
  {
   "cell_type": "code",
   "execution_count": 51,
   "id": "07979c46",
   "metadata": {
    "id": "07979c46"
   },
   "outputs": [],
   "source": [
    "#Get most common word\n",
    "\n",
    "def most_common_word(text):\n",
    "    tokens = nltk.word_tokenize(text.lower())\n",
    "    stopwords = nltk.corpus.stopwords.words('english')\n",
    "    stopwords.extend(string.punctuation)\n",
    "    words = [token for token in tokens if token.isalpha() and token not in stopwords]\n",
    "    word_counts = Counter(words)\n",
    "    if word_counts:\n",
    "        return [word for word, count in word_counts.most_common(3)]\n",
    "    else:\n",
    "        return []\n",
    "\n",
    "df['most_common_word'] = df['Tokenized_lyrics'].apply(most_common_word)\n",
    "\n",
    "most_common_words_by_artist = df.groupby('Artist')['most_common_word'].apply(lambda x: [word for words in x for word in words]).apply(Counter).apply(lambda x: [word for word, count in x.most_common(3)])\n",
    "\n"
   ]
  },
  {
   "cell_type": "code",
   "execution_count": 52,
   "id": "cyrtgu0CPs-Z",
   "metadata": {
    "colab": {
     "base_uri": "https://localhost:8080/",
     "height": 615
    },
    "id": "cyrtgu0CPs-Z",
    "outputId": "8d576263-f233-4ebe-f92c-4090038e275d"
   },
   "outputs": [
    {
     "data": {
      "text/html": [
       "<div>\n",
       "<style scoped>\n",
       "    .dataframe tbody tr th:only-of-type {\n",
       "        vertical-align: middle;\n",
       "    }\n",
       "\n",
       "    .dataframe tbody tr th {\n",
       "        vertical-align: top;\n",
       "    }\n",
       "\n",
       "    .dataframe thead th {\n",
       "        text-align: right;\n",
       "    }\n",
       "</style>\n",
       "<table border=\"1\" class=\"dataframe\">\n",
       "  <thead>\n",
       "    <tr style=\"text-align: right;\">\n",
       "      <th></th>\n",
       "      <th>Artist</th>\n",
       "      <th>Title</th>\n",
       "      <th>Lyrics</th>\n",
       "      <th>Tokenized_lyrics</th>\n",
       "      <th>lyrics_length</th>\n",
       "      <th>standardized_length</th>\n",
       "      <th>average_lyrics_length</th>\n",
       "      <th>Tokenised_words</th>\n",
       "      <th>Lemmatized_lyrics</th>\n",
       "      <th>tagged</th>\n",
       "      <th>word_frequency</th>\n",
       "      <th>most_common_word</th>\n",
       "    </tr>\n",
       "  </thead>\n",
       "  <tbody>\n",
       "    <tr>\n",
       "      <th>0</th>\n",
       "      <td>Taylor Swift</td>\n",
       "      <td>cardigan</td>\n",
       "      <td>Vintage tee, brand new phone\\nHigh heels on co...</td>\n",
       "      <td>Vintage tee, brand new phone High heels cobble...</td>\n",
       "      <td>281</td>\n",
       "      <td>0.30</td>\n",
       "      <td>347.08</td>\n",
       "      <td>[Vintage, tee, brand, new, phone, High, heels,...</td>\n",
       "      <td>Vintage tee, brand new phone High heel cobbles...</td>\n",
       "      <td>[(Vintage, NNP), (tee, NN), (brand, NN), (new,...</td>\n",
       "      <td>{'vintage': 1, 'tee': 1, 'brand': 1, 'new': 1,...</td>\n",
       "      <td>[knew, like, young]</td>\n",
       "    </tr>\n",
       "    <tr>\n",
       "      <th>1</th>\n",
       "      <td>Taylor Swift</td>\n",
       "      <td>exile</td>\n",
       "      <td>I can see you standing, honey\\nWith his arms a...</td>\n",
       "      <td>can see you standing, honey With his arms arou...</td>\n",
       "      <td>416</td>\n",
       "      <td>1.48</td>\n",
       "      <td>347.08</td>\n",
       "      <td>[see, standing, honey, With, arms, around, bod...</td>\n",
       "      <td>see standing, honey With arm around body Laugh...</td>\n",
       "      <td>[(see, VB), (standing, VBG), (honey, NN), (Wit...</td>\n",
       "      <td>{'see': 3, 'standing': 1, 'honey': 2, 'arms': ...</td>\n",
       "      <td>[never, gave, warning]</td>\n",
       "    </tr>\n",
       "    <tr>\n",
       "      <th>2</th>\n",
       "      <td>Taylor Swift</td>\n",
       "      <td>Lover</td>\n",
       "      <td>We could leave the Christmas lights up 'til Ja...</td>\n",
       "      <td>We could leave Christmas lights up 'til Januar...</td>\n",
       "      <td>233</td>\n",
       "      <td>-0.11</td>\n",
       "      <td>347.08</td>\n",
       "      <td>[We, could, leave, Christmas, lights, January,...</td>\n",
       "      <td>We could leave Christmas light 'til January An...</td>\n",
       "      <td>[(We, PRP), (could, MD), (leave, VB), (Christm...</td>\n",
       "      <td>{'could': 2, 'leave': 1, 'christmas': 1, 'ligh...</td>\n",
       "      <td>[take, go, forever]</td>\n",
       "    </tr>\n",
       "    <tr>\n",
       "      <th>3</th>\n",
       "      <td>Taylor Swift</td>\n",
       "      <td>the 1</td>\n",
       "      <td>I'm doing good, I'm on some new shit\\nBeen say...</td>\n",
       "      <td>I'm doing good, I'm some new shit Been saying ...</td>\n",
       "      <td>277</td>\n",
       "      <td>0.27</td>\n",
       "      <td>347.08</td>\n",
       "      <td>[I, good, I, new, shit, Been, saying, yes, ins...</td>\n",
       "      <td>I'm good, I'm new shit Been saying \"yes\" inste...</td>\n",
       "      <td>[(I, PRP), (good, VBP), (I, PRP), (new, JJ), (...</td>\n",
       "      <td>{'good': 1, 'new': 1, 'shit': 2, 'saying': 1, ...</td>\n",
       "      <td>[never, would, know]</td>\n",
       "    </tr>\n",
       "    <tr>\n",
       "      <th>4</th>\n",
       "      <td>Taylor Swift</td>\n",
       "      <td>Look What You Made Me Do</td>\n",
       "      <td>I don't like your little games\\nDon't like you...</td>\n",
       "      <td>don't like your little games Don't like your t...</td>\n",
       "      <td>509</td>\n",
       "      <td>2.29</td>\n",
       "      <td>347.08</td>\n",
       "      <td>[like, little, games, Do, like, tilted, stage,...</td>\n",
       "      <td>like little game Don't like tilted stage The r...</td>\n",
       "      <td>[(like, IN), (little, JJ), (games, NNS), (Do, ...</td>\n",
       "      <td>{'like': 6, 'little': 1, 'games': 1, 'tilted':...</td>\n",
       "      <td>[made, look, ooh]</td>\n",
       "    </tr>\n",
       "  </tbody>\n",
       "</table>\n",
       "</div>"
      ],
      "text/plain": [
       "         Artist                     Title  \\\n",
       "0  Taylor Swift                  cardigan   \n",
       "1  Taylor Swift                     exile   \n",
       "2  Taylor Swift                     Lover   \n",
       "3  Taylor Swift                     the 1   \n",
       "4  Taylor Swift  Look What You Made Me Do   \n",
       "\n",
       "                                              Lyrics  \\\n",
       "0  Vintage tee, brand new phone\\nHigh heels on co...   \n",
       "1  I can see you standing, honey\\nWith his arms a...   \n",
       "2  We could leave the Christmas lights up 'til Ja...   \n",
       "3  I'm doing good, I'm on some new shit\\nBeen say...   \n",
       "4  I don't like your little games\\nDon't like you...   \n",
       "\n",
       "                                    Tokenized_lyrics  lyrics_length  \\\n",
       "0  Vintage tee, brand new phone High heels cobble...            281   \n",
       "1  can see you standing, honey With his arms arou...            416   \n",
       "2  We could leave Christmas lights up 'til Januar...            233   \n",
       "3  I'm doing good, I'm some new shit Been saying ...            277   \n",
       "4  don't like your little games Don't like your t...            509   \n",
       "\n",
       "   standardized_length  average_lyrics_length  \\\n",
       "0                 0.30                 347.08   \n",
       "1                 1.48                 347.08   \n",
       "2                -0.11                 347.08   \n",
       "3                 0.27                 347.08   \n",
       "4                 2.29                 347.08   \n",
       "\n",
       "                                     Tokenised_words  \\\n",
       "0  [Vintage, tee, brand, new, phone, High, heels,...   \n",
       "1  [see, standing, honey, With, arms, around, bod...   \n",
       "2  [We, could, leave, Christmas, lights, January,...   \n",
       "3  [I, good, I, new, shit, Been, saying, yes, ins...   \n",
       "4  [like, little, games, Do, like, tilted, stage,...   \n",
       "\n",
       "                                   Lemmatized_lyrics  \\\n",
       "0  Vintage tee, brand new phone High heel cobbles...   \n",
       "1  see standing, honey With arm around body Laugh...   \n",
       "2  We could leave Christmas light 'til January An...   \n",
       "3  I'm good, I'm new shit Been saying \"yes\" inste...   \n",
       "4  like little game Don't like tilted stage The r...   \n",
       "\n",
       "                                              tagged  \\\n",
       "0  [(Vintage, NNP), (tee, NN), (brand, NN), (new,...   \n",
       "1  [(see, VB), (standing, VBG), (honey, NN), (Wit...   \n",
       "2  [(We, PRP), (could, MD), (leave, VB), (Christm...   \n",
       "3  [(I, PRP), (good, VBP), (I, PRP), (new, JJ), (...   \n",
       "4  [(like, IN), (little, JJ), (games, NNS), (Do, ...   \n",
       "\n",
       "                                      word_frequency        most_common_word  \n",
       "0  {'vintage': 1, 'tee': 1, 'brand': 1, 'new': 1,...     [knew, like, young]  \n",
       "1  {'see': 3, 'standing': 1, 'honey': 2, 'arms': ...  [never, gave, warning]  \n",
       "2  {'could': 2, 'leave': 1, 'christmas': 1, 'ligh...     [take, go, forever]  \n",
       "3  {'good': 1, 'new': 1, 'shit': 2, 'saying': 1, ...    [never, would, know]  \n",
       "4  {'like': 6, 'little': 1, 'games': 1, 'tilted':...       [made, look, ooh]  "
      ]
     },
     "execution_count": 52,
     "metadata": {},
     "output_type": "execute_result"
    }
   ],
   "source": [
    "df.head()"
   ]
  },
  {
   "cell_type": "code",
   "execution_count": null,
   "id": "GKpu8is7nJcD",
   "metadata": {
    "colab": {
     "base_uri": "https://localhost:8080/",
     "height": 35
    },
    "id": "GKpu8is7nJcD",
    "outputId": "4edf20a4-735b-4985-9f66-570a68d840c1"
   },
   "outputs": [],
   "source": []
  },
  {
   "cell_type": "markdown",
   "id": "cWeTfl5ME74m",
   "metadata": {
    "id": "cWeTfl5ME74m"
   },
   "source": [
    "###Sentiment Analysis"
   ]
  },
  {
   "cell_type": "markdown",
   "id": "bf4ba34e",
   "metadata": {},
   "source": [
    "Sentiment analysis (or opinion mining) is a natural language processing (NLP) technique used to determine whether data is positive, negative or neutral. We have used nltk library SentimentIntensityAnalyser to find the sentiment of each song.\n",
    "\n",
    "We have also calculated the Polarity scores/Sentiment scores for each song which ranges from -1 to 1.\n",
    "\n",
    "Polarity refers to the overall sentiment conveyed by a particular text, phrase or word. This polarity can be expressed as a numerical rating known as a “sentiment score”. "
   ]
  },
  {
   "cell_type": "code",
   "execution_count": 53,
   "id": "119HPhpxI4O2",
   "metadata": {
    "colab": {
     "base_uri": "https://localhost:8080/"
    },
    "id": "119HPhpxI4O2",
    "outputId": "28038f32-528e-40c3-cfc1-3adbe81ef23d"
   },
   "outputs": [
    {
     "name": "stderr",
     "output_type": "stream",
     "text": [
      "[nltk_data] Downloading package vader_lexicon to\n",
      "[nltk_data]     C:\\Users\\91902\\AppData\\Roaming\\nltk_data...\n",
      "[nltk_data]   Package vader_lexicon is already up-to-date!\n"
     ]
    }
   ],
   "source": [
    "#Sentiment Analysis \n",
    "\n",
    "from nltk.sentiment import SentimentIntensityAnalyzer\n",
    "nltk.download('vader_lexicon')\n",
    "\n",
    "sia = SentimentIntensityAnalyzer()\n",
    "\n",
    "# Add a new column to the DataFrame to store the sentiment scores\n",
    "df['sentiment'] = df['Tokenized_lyrics'].apply(lambda x: sia.polarity_scores(x))\n",
    "\n",
    "# Extract the compound sentiment score from the sentiment dictionary\n",
    "df['compound_sentiment'] = df['sentiment'].apply(lambda x: x['compound'])"
   ]
  },
  {
   "cell_type": "code",
   "execution_count": null,
   "id": "a070b123",
   "metadata": {
    "id": "a070b123"
   },
   "outputs": [],
   "source": []
  },
  {
   "cell_type": "code",
   "execution_count": 54,
   "id": "b2629859",
   "metadata": {
    "colab": {
     "base_uri": "https://localhost:8080/",
     "height": 935
    },
    "id": "b2629859",
    "outputId": "042ff8c4-1786-471e-d475-842e06259468"
   },
   "outputs": [
    {
     "data": {
      "image/png": "[encoded data removed]",
      "text/plain": [
       "<Figure size 3600x2160 with 1 Axes>"
      ]
     },
     "metadata": {
      "needs_background": "light"
     },
     "output_type": "display_data"
    }
   ],
   "source": [
    "import matplotlib.pyplot as plt\n",
    "plt.figure(figsize=(50,30))\n",
    "plt.margins(0.02)\n",
    "plt.xlabel('Polarity', fontsize=50)\n",
    "plt.xticks(fontsize=40)\n",
    "plt.ylabel('Frequency', fontsize=50)\n",
    "plt.yticks(fontsize=40)\n",
    "plt.hist(df['compound_sentiment'] ,bins=50)\n",
    "plt.title('Polarity Distribution', fontsize=60)\n",
    "plt.show()"
   ]
  },
  {
   "cell_type": "code",
   "execution_count": 55,
   "id": "ef3e9289",
   "metadata": {
    "id": "ef3e9289"
   },
   "outputs": [],
   "source": [
    "#As the polarity Distribution shows most of the songs are positive and very few are negative songs. \n"
   ]
  },
  {
   "cell_type": "code",
   "execution_count": 56,
   "id": "e1262c94",
   "metadata": {
    "id": "e1262c94"
   },
   "outputs": [],
   "source": [
    "#Encode polarity into \"Positive\",\"Negative\",\"Neutral\" based on the score\n",
    "\n",
    "df[\"polarity_encoded\"]=['Positive' if x>0 else 'Negative' if x<0 else 'Neutral' for x in df['compound_sentiment'] ]"
   ]
  },
  {
   "cell_type": "code",
   "execution_count": 57,
   "id": "741d5e5c",
   "metadata": {
    "colab": {
     "base_uri": "https://localhost:8080/"
    },
    "id": "741d5e5c",
    "outputId": "61294ba4-b12a-499b-b9df-8518d203ea78"
   },
   "outputs": [
    {
     "data": {
      "text/plain": [
       "Positive    527\n",
       "Negative    215\n",
       "Neutral       3\n",
       "Name: polarity_encoded, dtype: int64"
      ]
     },
     "execution_count": 57,
     "metadata": {},
     "output_type": "execute_result"
    }
   ],
   "source": [
    "#Print the number of songs of each category of Polarity\n",
    "df[\"polarity_encoded\"].value_counts()"
   ]
  },
  {
   "cell_type": "code",
   "execution_count": null,
   "id": "5a5bcd51",
   "metadata": {
    "id": "5a5bcd51"
   },
   "outputs": [],
   "source": []
  }
 ],
 "metadata": {
  "colab": {
   "provenance": []
  },
  "kernelspec": {
   "display_name": "Python 3 (ipykernel)",
   "language": "python",
   "name": "python3"
  },
  "language_info": {
   "codemirror_mode": {
    "name": "ipython",
    "version": 3
   },
   "file_extension": ".py",
   "mimetype": "text/x-python",
   "name": "python",
   "nbconvert_exporter": "python",
   "pygments_lexer": "ipython3",
   "version": "3.9.7"
  },
  "varInspector": {
   "cols": {
    "lenName": 16,
    "lenType": 16,
    "lenVar": 40
   },
   "kernels_config": {
    "python": {
     "delete_cmd_postfix": "",
     "delete_cmd_prefix": "del ",
     "library": "var_list.py",
     "varRefreshCmd": "print(var_dic_list())"
    },
    "r": {
     "delete_cmd_postfix": ") ",
     "delete_cmd_prefix": "rm(",
     "library": "var_list.r",
     "varRefreshCmd": "cat(var_dic_list()) "
    }
   },
   "types_to_exclude": [
    "module",
    "function",
    "builtin_function_or_method",
    "instance",
    "_Feature"
   ],
   "window_display": false
  }
 },
 "nbformat": 4,
 "nbformat_minor": 5
}
